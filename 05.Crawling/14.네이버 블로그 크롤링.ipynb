{
 "cells": [
  {
   "cell_type": "markdown",
   "metadata": {},
   "source": [
    "# 네이버 블로그 크롤링 - 제주 맛집"
   ]
  },
  {
   "cell_type": "code",
   "execution_count": 112,
   "metadata": {},
   "outputs": [],
   "source": [
    "from selenium import webdriver\n",
    "from bs4 import BeautifulSoup \n",
    "import time\n",
    "import pandas as pd \n",
    "from urllib.parse import quote"
   ]
  },
  {
   "cell_type": "code",
   "execution_count": 113,
   "metadata": {},
   "outputs": [],
   "source": [
    "url = f'https://search.naver.com/search.naver?where=view&sm=tab_jum&query={quote(\"제주맛집\")}'\n",
    "driver = webdriver.Chrome('chromedriver.exe')\n",
    "driver.get(url)\n",
    "time.sleep(2)"
   ]
  },
  {
   "cell_type": "code",
   "execution_count": 114,
   "metadata": {},
   "outputs": [],
   "source": [
    "# blog페이지를 아래로 내려서 많은 데이터 확보\n",
    "from selenium.webdriver.common.keys import Keys\n",
    "\n",
    "body = driver.find_element_by_tag_name('body')\n",
    "for _ in range(30):\n",
    "    body.send_keys(Keys.PAGE_DOWN)\n",
    "    time.sleep(1)"
   ]
  },
  {
   "cell_type": "code",
   "execution_count": 115,
   "metadata": {},
   "outputs": [],
   "source": [
    "soup = BeautifulSoup(driver.page_source)"
   ]
  },
  {
   "cell_type": "code",
   "execution_count": 116,
   "metadata": {},
   "outputs": [
    {
     "data": {
      "text/plain": [
       "110"
      ]
     },
     "execution_count": 116,
     "metadata": {},
     "output_type": "execute_result"
    }
   ],
   "source": [
    "lis = soup.select('li.bx._svp_item')\n",
    "len(lis)"
   ]
  },
  {
   "cell_type": "code",
   "execution_count": 117,
   "metadata": {},
   "outputs": [],
   "source": [
    "li = lis[0]"
   ]
  },
  {
   "cell_type": "markdown",
   "metadata": {},
   "source": [
    "- ### 제목"
   ]
  },
  {
   "cell_type": "code",
   "execution_count": 118,
   "metadata": {},
   "outputs": [
    {
     "data": {
      "text/plain": [
       "'만족뿐인 제주 맛집 공유'"
      ]
     },
     "execution_count": 118,
     "metadata": {},
     "output_type": "execute_result"
    }
   ],
   "source": [
    "title = li.select_one('.api_txt_lines.total_tit._cross_trigger').get_text()\n",
    "title"
   ]
  },
  {
   "cell_type": "markdown",
   "metadata": {},
   "source": [
    "- ### 날짜"
   ]
  },
  {
   "cell_type": "code",
   "execution_count": 119,
   "metadata": {},
   "outputs": [
    {
     "data": {
      "text/plain": [
       "'2021.11.19.'"
      ]
     },
     "execution_count": 119,
     "metadata": {},
     "output_type": "execute_result"
    }
   ],
   "source": [
    "date = li.select_one('.sub_time.sub_txt').get_text().strip()\n",
    "date"
   ]
  },
  {
   "cell_type": "markdown",
   "metadata": {},
   "source": [
    "- ### 글,후기"
   ]
  },
  {
   "cell_type": "code",
   "execution_count": 120,
   "metadata": {},
   "outputs": [
    {
     "data": {
      "text/plain": [
       "'지난 주말 친구들과 제주여행을 떠났다가 이름알려진 제주 맛집에 갔다왔어요. 전복뚝배기부터 고등어조림,쌈밥 등 풍성한 음식에 아름다운 바다풍경까지 감상할 수 있었던 식당으로 만족스러웠던 곳이랍니다. 1....'"
      ]
     },
     "execution_count": 120,
     "metadata": {},
     "output_type": "execute_result"
    }
   ],
   "source": [
    "desc = li.select_one('.api_txt_lines.dsc_txt').get_text().strip()\n",
    "desc"
   ]
  },
  {
   "cell_type": "markdown",
   "metadata": {},
   "source": [
    "- ### href 구하기"
   ]
  },
  {
   "cell_type": "code",
   "execution_count": 121,
   "metadata": {},
   "outputs": [
    {
     "data": {
      "text/plain": [
       "'https://blog.naver.com/tok4/222573156818'"
      ]
     },
     "execution_count": 121,
     "metadata": {},
     "output_type": "execute_result"
    }
   ],
   "source": [
    "href = li.select_one('.total_dsc._cross_trigger')['href']\n",
    "href"
   ]
  },
  {
   "cell_type": "markdown",
   "metadata": {},
   "source": [
    "- ### 날짜 처리하기"
   ]
  },
  {
   "cell_type": "code",
   "execution_count": 122,
   "metadata": {},
   "outputs": [],
   "source": [
    "from datetime import datetime, timedelta"
   ]
  },
  {
   "cell_type": "code",
   "execution_count": 123,
   "metadata": {},
   "outputs": [
    {
     "data": {
      "text/plain": [
       "datetime.datetime(2021, 12, 8, 11, 59, 35, 191594)"
      ]
     },
     "execution_count": 123,
     "metadata": {},
     "output_type": "execute_result"
    }
   ],
   "source": [
    "today = datetime.now()                 # datetime.today() 해도 됨.\n",
    "today"
   ]
  },
  {
   "cell_type": "code",
   "execution_count": 124,
   "metadata": {},
   "outputs": [
    {
     "data": {
      "text/plain": [
       "(2021, 12, 8)"
      ]
     },
     "execution_count": 124,
     "metadata": {},
     "output_type": "execute_result"
    }
   ],
   "source": [
    "today.year, today.month, today.day"
   ]
  },
  {
   "cell_type": "markdown",
   "metadata": {},
   "source": [
    "- ### 날자가 '어제' 일때"
   ]
  },
  {
   "cell_type": "code",
   "execution_count": 125,
   "metadata": {},
   "outputs": [
    {
     "data": {
      "text/plain": [
       "'2021.12.7.'"
      ]
     },
     "execution_count": 125,
     "metadata": {},
     "output_type": "execute_result"
    }
   ],
   "source": [
    "date = today - timedelta(1)\n",
    "f'{date.year}.{date.month}.{date.day}.'"
   ]
  },
  {
   "cell_type": "markdown",
   "metadata": {},
   "source": [
    "- ### 날짜가 ' 6일 전' 일때"
   ]
  },
  {
   "cell_type": "code",
   "execution_count": 126,
   "metadata": {},
   "outputs": [
    {
     "data": {
      "text/plain": [
       "'2021.12.02.'"
      ]
     },
     "execution_count": 126,
     "metadata": {},
     "output_type": "execute_result"
    }
   ],
   "source": [
    "date = today - timedelta(6)                     # timedelta( days = 6 ) 생략\n",
    "f'{date.year:02d}.{date.month:02d}.{date.day:02d}.'"
   ]
  },
  {
   "cell_type": "markdown",
   "metadata": {},
   "source": [
    "- ### 날짜가 '13시간 전' 일때"
   ]
  },
  {
   "cell_type": "code",
   "execution_count": 127,
   "metadata": {},
   "outputs": [
    {
     "data": {
      "text/plain": [
       "'2021.12.07.'"
      ]
     },
     "execution_count": 127,
     "metadata": {},
     "output_type": "execute_result"
    }
   ],
   "source": [
    "date = today - timedelta(hours=13)\n",
    "f'{date.year}.{date.month:02d}.{date.day:02d}.'"
   ]
  },
  {
   "cell_type": "markdown",
   "metadata": {},
   "source": [
    "- ### 날짜가 ' 45분 전 ' 일때"
   ]
  },
  {
   "cell_type": "code",
   "execution_count": 128,
   "metadata": {},
   "outputs": [
    {
     "data": {
      "text/plain": [
       "'2021.12.08.'"
      ]
     },
     "execution_count": 128,
     "metadata": {},
     "output_type": "execute_result"
    }
   ],
   "source": [
    "date = today - timedelta(minutes=45)\n",
    "f'{date.year}.{date.month:02d}.{date.day:02d}.'"
   ]
  },
  {
   "cell_type": "markdown",
   "metadata": {},
   "source": [
    "- ### 위에 날짜들을 한번에 사용할 수 있는 함수 만들기!"
   ]
  },
  {
   "cell_type": "code",
   "execution_count": 129,
   "metadata": {},
   "outputs": [],
   "source": [
    "def convert_date(s):\n",
    "    if len (s) == 11 :\n",
    "        return s[:-1]\n",
    "\n",
    "    today = datetime.now()   \n",
    "    if '어제' in s:\n",
    "        date = today - timedelta(1)\n",
    "    elif '분' in s :\n",
    "        date = today - timedelta(minutes=int(s.split('분')[0]))     #int(s[:-3])\n",
    "    elif '시간' in s:\n",
    "        date = today - timedelta(hours=int(s.split('시간')[0]))     #int(s[:-4])\n",
    "    elif '일' in s:\n",
    "        date = today - timedelta(days=int(s.split('일')[0]))        #int(s[:-3])\n",
    "        \n",
    "    return f'{date.year}.{date.month:02d}.{date.day:02d}.'"
   ]
  },
  {
   "cell_type": "code",
   "execution_count": 130,
   "metadata": {},
   "outputs": [
    {
     "data": {
      "text/plain": [
       "'2021.11.18.'"
      ]
     },
     "execution_count": 130,
     "metadata": {},
     "output_type": "execute_result"
    }
   ],
   "source": [
    "before = '20일 전'\n",
    "convert_date(before)"
   ]
  },
  {
   "cell_type": "markdown",
   "metadata": {},
   "source": [
    "- ### 반복문으로 데이터 가져오기"
   ]
  },
  {
   "cell_type": "code",
   "execution_count": 131,
   "metadata": {},
   "outputs": [],
   "source": [
    "lines = []\n",
    "for li in lis:\n",
    "    title = li.select_one('.api_txt_lines.total_tit._cross_trigger').get_text()\n",
    "    date = li.select_one('.sub_time.sub_txt').get_text().strip()\n",
    "    desc = li.select_one('.api_txt_lines.dsc_txt').get_text().strip()    \n",
    "    href = li.select_one('.total_dsc._cross_trigger')['href']\n",
    "    lines.append([title, convert_date(date),desc,href])"
   ]
  },
  {
   "cell_type": "code",
   "execution_count": 132,
   "metadata": {},
   "outputs": [
    {
     "data": {
      "text/html": [
       "<div>\n",
       "<style scoped>\n",
       "    .dataframe tbody tr th:only-of-type {\n",
       "        vertical-align: middle;\n",
       "    }\n",
       "\n",
       "    .dataframe tbody tr th {\n",
       "        vertical-align: top;\n",
       "    }\n",
       "\n",
       "    .dataframe thead th {\n",
       "        text-align: right;\n",
       "    }\n",
       "</style>\n",
       "<table border=\"1\" class=\"dataframe\">\n",
       "  <thead>\n",
       "    <tr style=\"text-align: right;\">\n",
       "      <th></th>\n",
       "      <th>제목</th>\n",
       "      <th>날짜</th>\n",
       "      <th>내용</th>\n",
       "      <th>href</th>\n",
       "    </tr>\n",
       "  </thead>\n",
       "  <tbody>\n",
       "    <tr>\n",
       "      <th>0</th>\n",
       "      <td>만족뿐인 제주 맛집 공유</td>\n",
       "      <td>2021.11.19</td>\n",
       "      <td>지난 주말 친구들과 제주여행을 떠났다가 이름알려진 제주 맛집에 갔다왔어요. 전복뚝배...</td>\n",
       "      <td>https://blog.naver.com/tok4/222573156818</td>\n",
       "    </tr>\n",
       "    <tr>\n",
       "      <th>1</th>\n",
       "      <td>또 생각났던 제주 맛집</td>\n",
       "      <td>2021.12.02.</td>\n",
       "      <td>제가 시킨 제주 비빔국수는 갖은 야채들이 그릇에 알록달록 예쁘게 가득 채워져 있었는...</td>\n",
       "      <td>https://cafe.naver.com/ungsangstory/940466</td>\n",
       "    </tr>\n",
       "    <tr>\n",
       "      <th>2</th>\n",
       "      <td>북적였던 제주 맛집 리스트</td>\n",
       "      <td>2021.11.13</td>\n",
       "      <td>무엇보다 비린내 한번 느껴지지 않아 배가 부른 상태였음에도 쉽사리 남길 수가 없었던...</td>\n",
       "      <td>https://blog.naver.com/caucommando/222564796496</td>\n",
       "    </tr>\n",
       "    <tr>\n",
       "      <th>3</th>\n",
       "      <td>감격했던 제주 맛집 소개</td>\n",
       "      <td>2021.11.15</td>\n",
       "      <td>얼마 전 친구들과 제주로 여행갔다가 현지인께 추천받은 제주 맛집에 다녀왔어요. 갓 ...</td>\n",
       "      <td>https://blog.naver.com/topnotchlady/222568948674</td>\n",
       "    </tr>\n",
       "    <tr>\n",
       "      <th>4</th>\n",
       "      <td>제주도 가볼만한곳 제주 맛집</td>\n",
       "      <td>2021.12.01.</td>\n",
       "      <td>제주도 가볼만한곳 제주 맛집은 깔끔한 메뉴가 푸짐하게 나오기로 소문 난 곳이라 부담...</td>\n",
       "      <td>https://cafe.naver.com/gangmok/1543161</td>\n",
       "    </tr>\n",
       "    <tr>\n",
       "      <th>...</th>\n",
       "      <td>...</td>\n",
       "      <td>...</td>\n",
       "      <td>...</td>\n",
       "      <td>...</td>\n",
       "    </tr>\n",
       "    <tr>\n",
       "      <th>105</th>\n",
       "      <td>제쇼 12월 제주맛집 공유상 진행합니다.^^</td>\n",
       "      <td>2021.12.06.</td>\n",
       "      <td>[제쇼 12월 제주맛집 공유상 ] 회원님들의 제주맛집 또는 제주카페 정보를 공유해주...</td>\n",
       "      <td>https://cafe.naver.com/lovejeju24/72363</td>\n",
       "    </tr>\n",
       "    <tr>\n",
       "      <th>106</th>\n",
       "      <td>만족했던 소노벨 제주 맛집</td>\n",
       "      <td>2021.10.19</td>\n",
       "      <td>맛도 퀄리티도 좋았던 곳이라 평소에 족발이나 보쌈 좋아하셨다면 소노벨 제주 맛집 여...</td>\n",
       "      <td>https://cafe.naver.com/cosmania/33406306</td>\n",
       "    </tr>\n",
       "    <tr>\n",
       "      <th>107</th>\n",
       "      <td>[제주맛집] 사장님 귀는 당나귀 귀 정호영쉐프가 운영하는 제주 교래리 우동카덴</td>\n",
       "      <td>2021.11.27</td>\n",
       "      <td>그렇지만 아주 특별한 맛은 아닌것 같음. 우동 그릇이 엄청 크고 무거움(세수대야 수...</td>\n",
       "      <td>https://cafe.naver.com/lovejeju24/72006</td>\n",
       "    </tr>\n",
       "    <tr>\n",
       "      <th>108</th>\n",
       "      <td>풍요로운 제주 맛집 추천</td>\n",
       "      <td>2021.08.15</td>\n",
       "      <td>이어서 등장만으로도 이목을 집중시킨 제주 맛집 추천의 제주달빛좋은밤이 야심차게 마련...</td>\n",
       "      <td>https://cafe.naver.com/gangmok/1506627</td>\n",
       "    </tr>\n",
       "    <tr>\n",
       "      <th>109</th>\n",
       "      <td>인정했던 제주 맛집</td>\n",
       "      <td>2021.08.17</td>\n",
       "      <td>얼마 전 친구와 제주에 갔다가 요즘 핫하다는 제주 맛집에 다녀왔어요. 가성비 좋은 ...</td>\n",
       "      <td>https://cafe.naver.com/culturebloom/1335943</td>\n",
       "    </tr>\n",
       "  </tbody>\n",
       "</table>\n",
       "<p>110 rows × 4 columns</p>\n",
       "</div>"
      ],
      "text/plain": [
       "                                              제목           날짜  \\\n",
       "0                                  만족뿐인 제주 맛집 공유   2021.11.19   \n",
       "1                                   또 생각났던 제주 맛집  2021.12.02.   \n",
       "2                                 북적였던 제주 맛집 리스트   2021.11.13   \n",
       "3                                  감격했던 제주 맛집 소개   2021.11.15   \n",
       "4                                제주도 가볼만한곳 제주 맛집  2021.12.01.   \n",
       "..                                           ...          ...   \n",
       "105                     제쇼 12월 제주맛집 공유상 진행합니다.^^  2021.12.06.   \n",
       "106                               만족했던 소노벨 제주 맛집   2021.10.19   \n",
       "107  [제주맛집] 사장님 귀는 당나귀 귀 정호영쉐프가 운영하는 제주 교래리 우동카덴   2021.11.27   \n",
       "108                                풍요로운 제주 맛집 추천   2021.08.15   \n",
       "109                                   인정했던 제주 맛집   2021.08.17   \n",
       "\n",
       "                                                    내용  \\\n",
       "0    지난 주말 친구들과 제주여행을 떠났다가 이름알려진 제주 맛집에 갔다왔어요. 전복뚝배...   \n",
       "1    제가 시킨 제주 비빔국수는 갖은 야채들이 그릇에 알록달록 예쁘게 가득 채워져 있었는...   \n",
       "2    무엇보다 비린내 한번 느껴지지 않아 배가 부른 상태였음에도 쉽사리 남길 수가 없었던...   \n",
       "3    얼마 전 친구들과 제주로 여행갔다가 현지인께 추천받은 제주 맛집에 다녀왔어요. 갓 ...   \n",
       "4    제주도 가볼만한곳 제주 맛집은 깔끔한 메뉴가 푸짐하게 나오기로 소문 난 곳이라 부담...   \n",
       "..                                                 ...   \n",
       "105  [제쇼 12월 제주맛집 공유상 ] 회원님들의 제주맛집 또는 제주카페 정보를 공유해주...   \n",
       "106  맛도 퀄리티도 좋았던 곳이라 평소에 족발이나 보쌈 좋아하셨다면 소노벨 제주 맛집 여...   \n",
       "107  그렇지만 아주 특별한 맛은 아닌것 같음. 우동 그릇이 엄청 크고 무거움(세수대야 수...   \n",
       "108  이어서 등장만으로도 이목을 집중시킨 제주 맛집 추천의 제주달빛좋은밤이 야심차게 마련...   \n",
       "109  얼마 전 친구와 제주에 갔다가 요즘 핫하다는 제주 맛집에 다녀왔어요. 가성비 좋은 ...   \n",
       "\n",
       "                                                 href  \n",
       "0            https://blog.naver.com/tok4/222573156818  \n",
       "1          https://cafe.naver.com/ungsangstory/940466  \n",
       "2     https://blog.naver.com/caucommando/222564796496  \n",
       "3    https://blog.naver.com/topnotchlady/222568948674  \n",
       "4              https://cafe.naver.com/gangmok/1543161  \n",
       "..                                                ...  \n",
       "105           https://cafe.naver.com/lovejeju24/72363  \n",
       "106          https://cafe.naver.com/cosmania/33406306  \n",
       "107           https://cafe.naver.com/lovejeju24/72006  \n",
       "108            https://cafe.naver.com/gangmok/1506627  \n",
       "109       https://cafe.naver.com/culturebloom/1335943  \n",
       "\n",
       "[110 rows x 4 columns]"
      ]
     },
     "execution_count": 132,
     "metadata": {},
     "output_type": "execute_result"
    }
   ],
   "source": [
    "df = pd.DataFrame(lines, columns=['제목','날짜','내용','href'])\n",
    "df"
   ]
  },
  {
   "cell_type": "code",
   "execution_count": 133,
   "metadata": {},
   "outputs": [],
   "source": [
    "df.to_csv('네이버-제주맛집.csv',index=False)"
   ]
  },
  {
   "cell_type": "code",
   "execution_count": 134,
   "metadata": {},
   "outputs": [],
   "source": [
    "driver.close()"
   ]
  },
  {
   "cell_type": "code",
   "execution_count": null,
   "metadata": {},
   "outputs": [],
   "source": []
  }
 ],
 "metadata": {
  "interpreter": {
   "hash": "548f47d4ec0dc4112fdad0943bac241a01e6527a6c4e48b09b6eb2fedd600273"
  },
  "kernelspec": {
   "display_name": "Python 3.8.8 64-bit ('base': conda)",
   "language": "python",
   "name": "python3"
  },
  "language_info": {
   "codemirror_mode": {
    "name": "ipython",
    "version": 3
   },
   "file_extension": ".py",
   "mimetype": "text/x-python",
   "name": "python",
   "nbconvert_exporter": "python",
   "pygments_lexer": "ipython3",
   "version": "3.8.8"
  },
  "orig_nbformat": 4
 },
 "nbformat": 4,
 "nbformat_minor": 2
}
