{
 "cells": [
  {
   "cell_type": "markdown",
   "metadata": {},
   "source": [
    "# 한빛 네트워크 Ranking"
   ]
  },
  {
   "cell_type": "code",
   "execution_count": 244,
   "metadata": {},
   "outputs": [],
   "source": [
    "from selenium import webdriver\n",
    "from bs4 import BeautifulSoup\n",
    "import time\n",
    "import pandas as pd\n",
    "import requests\n",
    "import pandas as pd"
   ]
  },
  {
   "cell_type": "code",
   "execution_count": 245,
   "metadata": {},
   "outputs": [],
   "source": [
    "site ='https://www.hanbit.co.kr/store/books/'\n",
    "url = site + 'new_book_list.html'\n",
    "req = requests.get(url)\n",
    "html = req.text"
   ]
  },
  {
   "cell_type": "code",
   "execution_count": 246,
   "metadata": {},
   "outputs": [],
   "source": [
    "soup = BeautifulSoup(html, 'html.parser')"
   ]
  },
  {
   "cell_type": "code",
   "execution_count": 247,
   "metadata": {},
   "outputs": [
    {
     "data": {
      "text/plain": [
       "20"
      ]
     },
     "execution_count": 247,
     "metadata": {},
     "output_type": "execute_result"
    }
   ],
   "source": [
    "lis = soup.select_one('div.sub_book_list_area').find_all('li')\n",
    "len(lis)"
   ]
  },
  {
   "cell_type": "code",
   "execution_count": 462,
   "metadata": {},
   "outputs": [
    {
     "data": {
      "text/plain": [
       "'/store/books/look.php?p_code=B6694310162'"
      ]
     },
     "execution_count": 462,
     "metadata": {},
     "output_type": "execute_result"
    }
   ],
   "source": [
    "li = lis[0]\n",
    "href =li.find('a')['href']\n",
    "href"
   ]
  },
  {
   "cell_type": "code",
   "execution_count": 249,
   "metadata": {},
   "outputs": [
    {
     "data": {
      "text/plain": [
       "'하루 한 장 초등과학 365'"
      ]
     },
     "execution_count": 249,
     "metadata": {},
     "output_type": "execute_result"
    }
   ],
   "source": [
    "# 제목\n",
    "title = li.select_one('p.book_tit').get_text()\n",
    "title"
   ]
  },
  {
   "cell_type": "code",
   "execution_count": 250,
   "metadata": {},
   "outputs": [
    {
     "data": {
      "text/plain": [
       "'치바 가즈요시 '"
      ]
     },
     "execution_count": 250,
     "metadata": {},
     "output_type": "execute_result"
    }
   ],
   "source": [
    "# 저자\n",
    "writer = li.select_one('p.book_writer').get_text()\n",
    "writer"
   ]
  },
  {
   "cell_type": "markdown",
   "metadata": {},
   "source": [
    "- ### 서브 URL"
   ]
  },
  {
   "cell_type": "code",
   "execution_count": 251,
   "metadata": {},
   "outputs": [
    {
     "data": {
      "text/plain": [
       "'/store/books/look.php?p_code=B6694310162'"
      ]
     },
     "execution_count": 251,
     "metadata": {},
     "output_type": "execute_result"
    }
   ],
   "source": [
    "href"
   ]
  },
  {
   "cell_type": "code",
   "execution_count": 252,
   "metadata": {},
   "outputs": [
    {
     "data": {
      "text/plain": [
       "20"
      ]
     },
     "execution_count": 252,
     "metadata": {},
     "output_type": "execute_result"
    }
   ],
   "source": [
    "lis = soup.select_one('div.sub_book_list_area').find_all('li')\n",
    "len(lis)"
   ]
  },
  {
   "cell_type": "code",
   "execution_count": 463,
   "metadata": {},
   "outputs": [
    {
     "data": {
      "text/plain": [
       "'look.php?p_code=B6972407557'"
      ]
     },
     "execution_count": 463,
     "metadata": {},
     "output_type": "execute_result"
    }
   ],
   "source": [
    "li = lis[1]\n",
    "href1 = li.find('a')['href'][13:]\n",
    "href1"
   ]
  },
  {
   "cell_type": "code",
   "execution_count": 464,
   "metadata": {},
   "outputs": [
    {
     "data": {
      "text/plain": [
       "'https://www.hanbit.co.kr/store/books/look.php?p_code=B6972407557'"
      ]
     },
     "execution_count": 464,
     "metadata": {},
     "output_type": "execute_result"
    }
   ],
   "source": [
    "sub_url = site + href1\n",
    "sub_url"
   ]
  },
  {
   "cell_type": "code",
   "execution_count": 465,
   "metadata": {},
   "outputs": [],
   "source": [
    "sub_req =  requests.get(sub_url)\n",
    "sub_html = sub_req.text\n",
    "sub_soup = BeautifulSoup(sub_html, 'html.parser')"
   ]
  },
  {
   "cell_type": "code",
   "execution_count": 468,
   "metadata": {},
   "outputs": [
    {
     "data": {
      "text/plain": [
       "['',\n",
       " '저자 : 폴 김 ',\n",
       " '출간 : 2021-12-10',\n",
       " '페이지 : 304 쪽',\n",
       " 'ISBN : 9791157845545',\n",
       " '물류코드 :3356',\n",
       " '']"
      ]
     },
     "execution_count": 468,
     "metadata": {},
     "output_type": "execute_result"
    }
   ],
   "source": [
    "editor = sub_soup.select_one('ul.info_list').get_text().split('\\n')\n",
    "editor"
   ]
  },
  {
   "cell_type": "code",
   "execution_count": 469,
   "metadata": {},
   "outputs": [],
   "source": [
    "# 역자\n",
    "editor = sub_soup.select_one('ul.info_list').find_all('li')\n",
    "if len(editor) == 6 :\n",
    "    editor = sub_soup.select_one('ul.info_list').get_text().split('\\n')[2].split(':')[1].strip()\n",
    "else:\n",
    "    pass"
   ]
  },
  {
   "cell_type": "code",
   "execution_count": 438,
   "metadata": {},
   "outputs": [
    {
     "data": {
      "text/plain": [
       "'2021-12-10'"
      ]
     },
     "execution_count": 438,
     "metadata": {},
     "output_type": "execute_result"
    }
   ],
   "source": [
    "start = sub_soup.select_one('ul.info_list').get_text().split('\\n')[2].split(':')[1].strip()\n",
    "start"
   ]
  },
  {
   "cell_type": "code",
   "execution_count": 439,
   "metadata": {},
   "outputs": [],
   "source": [
    "# 출간일\n",
    "start = sub_soup.select_one('ul.info_list').get_text().split('\\n')\n",
    "if len (start) == 8 :\n",
    "    start = sub_soup.select_one('ul.info_list').get_text().split('\\n')[3].split(':')[1].strip()\n",
    "else:\n",
    "    start = sub_soup.select_one('ul.info_list').get_text().split('\\n')[2].split(':')[1].strip()"
   ]
  },
  {
   "cell_type": "code",
   "execution_count": 440,
   "metadata": {},
   "outputs": [
    {
     "data": {
      "text/plain": [
       "7"
      ]
     },
     "execution_count": 440,
     "metadata": {},
     "output_type": "execute_result"
    }
   ],
   "source": [
    "page = sub_soup.select_one('ul.info_list').get_text().split('\\n')\n",
    "len(page)"
   ]
  },
  {
   "cell_type": "code",
   "execution_count": 441,
   "metadata": {},
   "outputs": [
    {
     "data": {
      "text/plain": [
       "'304 쪽'"
      ]
     },
     "execution_count": 441,
     "metadata": {},
     "output_type": "execute_result"
    }
   ],
   "source": [
    "page = sub_soup.select_one('ul.info_list').get_text().split('\\n')[3].split(':')[1].strip()\n",
    "page"
   ]
  },
  {
   "cell_type": "code",
   "execution_count": 442,
   "metadata": {},
   "outputs": [],
   "source": [
    "#페이지\n",
    "page = sub_soup.select_one('ul.info_list').get_text().split('\\n')\n",
    "\n",
    "if len(page) == 8:\n",
    "    page = sub_soup.select_one('ul.info_list').get_text().split('\\n')[4].split(':')[1].strip()\n",
    "else:\n",
    "    page = sub_soup.select_one('ul.info_list').get_text().split('\\n')[3].split(':')[1].strip()"
   ]
  },
  {
   "cell_type": "code",
   "execution_count": 448,
   "metadata": {},
   "outputs": [
    {
     "data": {
      "text/plain": [
       "'16000'"
      ]
     },
     "execution_count": 448,
     "metadata": {},
     "output_type": "execute_result"
    }
   ],
   "source": [
    "#정가\n",
    "price = sub_soup.select_one('div.store_payment_area').get_text().split('\\n')[7].split(':')[1].strip()[:6].replace(',','')\n",
    "price"
   ]
  },
  {
   "cell_type": "code",
   "execution_count": 450,
   "metadata": {},
   "outputs": [
    {
     "data": {
      "text/plain": [
       "'14400'"
      ]
     },
     "execution_count": 450,
     "metadata": {},
     "output_type": "execute_result"
    }
   ],
   "source": [
    "#할인가\n",
    "sale = sub_soup.select_one('div.store_payment_area').get_text().split('\\n')[8].split(':')[1].strip()[:6].replace(',','')\n",
    "sale"
   ]
  },
  {
   "cell_type": "code",
   "execution_count": 302,
   "metadata": {},
   "outputs": [
    {
     "data": {
      "text/plain": [
       "'990'"
      ]
     },
     "execution_count": 302,
     "metadata": {},
     "output_type": "execute_result"
    }
   ],
   "source": [
    "# 마일리지\n",
    "mile = sub_soup.select_one('div.store_payment_area').get_text().split('\\n')[9].split(':')[1][:4].strip()\n",
    "mile"
   ]
  },
  {
   "cell_type": "code",
   "execution_count": 459,
   "metadata": {},
   "outputs": [],
   "source": [
    "lines = []\n",
    "for li in lis:\n",
    "    href =li.find('a')['href']\n",
    "    title = li.select_one('p.book_tit').get_text()\n",
    "    writer = li.select_one('p.book_writer').get_text()\n",
    "\n",
    "    href1 = li.find('a')['href'][13:]\n",
    "    sub_url = site + href1\n",
    "    sub_req =  requests.get(sub_url)\n",
    "    sub_html = sub_req.text\n",
    "    sub_soup = BeautifulSoup(sub_html, 'html.parser')\n",
    "    editor = sub_soup.select_one('ul.info_list').find_all('li')\n",
    "    if len(editor) == 6 :\n",
    "        editor = sub_soup.select_one('ul.info_list').get_text().split('\\n')[2].split(':')[1].strip()\n",
    "    else:\n",
    "        pass\n",
    "    start = sub_soup.select_one('ul.info_list').get_text().split('\\n')\n",
    "    if len (start) == 8 :\n",
    "        start = sub_soup.select_one('ul.info_list').get_text().split('\\n')[3].split(':')[1].strip()\n",
    "    else:\n",
    "        start = sub_soup.select_one('ul.info_list').get_text().split('\\n')[2].split(':')[1].strip()\n",
    "    if len(page) == 8:\n",
    "        page = sub_soup.select_one('ul.info_list').get_text().split('\\n')[4].split(':')[1].strip()\n",
    "    else:\n",
    "        page = sub_soup.select_one('ul.info_list').get_text().split('\\n')[3].split(':')[1].strip()\n",
    "    price = sub_soup.select_one('div.store_payment_area').get_text().split('\\n')[7].split(':')[1].strip()[:6].replace(',','')\n",
    "    sale = sub_soup.select_one('div.store_payment_area').get_text().split('\\n')[8].split(':')[1].strip()[:6].replace(',','')\n",
    "    mile = sub_soup.select_one('div.store_payment_area').get_text().split('\\n')[9].split(':')[1][:4].strip()\n",
    "\n",
    "    lines.append([title,writer,editor,start,page,price,sale,mile])"
   ]
  },
  {
   "cell_type": "code",
   "execution_count": 470,
   "metadata": {},
   "outputs": [
    {
     "data": {
      "text/html": [
       "<div>\n",
       "<style scoped>\n",
       "    .dataframe tbody tr th:only-of-type {\n",
       "        vertical-align: middle;\n",
       "    }\n",
       "\n",
       "    .dataframe tbody tr th {\n",
       "        vertical-align: top;\n",
       "    }\n",
       "\n",
       "    .dataframe thead th {\n",
       "        text-align: right;\n",
       "    }\n",
       "</style>\n",
       "<table border=\"1\" class=\"dataframe\">\n",
       "  <thead>\n",
       "    <tr style=\"text-align: right;\">\n",
       "      <th></th>\n",
       "      <th>제목</th>\n",
       "      <th>저자</th>\n",
       "      <th>역자</th>\n",
       "      <th>출간일</th>\n",
       "      <th>페이지</th>\n",
       "      <th>정가</th>\n",
       "      <th>할인가</th>\n",
       "      <th>마일리지</th>\n",
       "    </tr>\n",
       "  </thead>\n",
       "  <tbody>\n",
       "    <tr>\n",
       "      <th>0</th>\n",
       "      <td>하루 한 장 초등과학 365</td>\n",
       "      <td>치바 가즈요시</td>\n",
       "      <td>허영은 , 유우종 (감수)</td>\n",
       "      <td>2021-12-14</td>\n",
       "      <td>2021-12-14</td>\n",
       "      <td>19800</td>\n",
       "      <td>17820</td>\n",
       "      <td>990</td>\n",
       "    </tr>\n",
       "    <tr>\n",
       "      <th>1</th>\n",
       "      <td>다시, 배우다</td>\n",
       "      <td>폴 김</td>\n",
       "      <td>[[[저자 : ], [폴 김 ]], [[출간 : ], [2021-12-10]], [...</td>\n",
       "      <td>2021-12-10</td>\n",
       "      <td>304 쪽</td>\n",
       "      <td>16000</td>\n",
       "      <td>14400</td>\n",
       "      <td>800</td>\n",
       "    </tr>\n",
       "    <tr>\n",
       "      <th>2</th>\n",
       "      <td>당당한 디자인 결정을 위한 9가지 방법</td>\n",
       "      <td>톰 그리버</td>\n",
       "      <td>김민성 , 곽서희</td>\n",
       "      <td>2021-12-10</td>\n",
       "      <td>2021-12-10</td>\n",
       "      <td>22000</td>\n",
       "      <td>19800</td>\n",
       "      <td>1,1</td>\n",
       "    </tr>\n",
       "    <tr>\n",
       "      <th>3</th>\n",
       "      <td>365 부모 말하기 연습 일력(스프링북)</td>\n",
       "      <td>박재연 , 공인영</td>\n",
       "      <td>[[[저자 : ], [박재연 , 공인영 ]], [[출간 : ], [2021-12-0...</td>\n",
       "      <td>2021-12-01</td>\n",
       "      <td>384 쪽</td>\n",
       "      <td>18000</td>\n",
       "      <td>16200</td>\n",
       "      <td>900</td>\n",
       "    </tr>\n",
       "    <tr>\n",
       "      <th>4</th>\n",
       "      <td>공학도를 위한 수치해석(8판)</td>\n",
       "      <td>Steven C.Chapra , Raymond P. Canale</td>\n",
       "      <td>나양 , 이승배 , 임윤철</td>\n",
       "      <td>2021-11-30</td>\n",
       "      <td>2021-11-30</td>\n",
       "      <td>36000</td>\n",
       "      <td>36000</td>\n",
       "      <td>1,0</td>\n",
       "    </tr>\n",
       "    <tr>\n",
       "      <th>5</th>\n",
       "      <td>엑셀 매크로&amp;VBA 업무 공략집</td>\n",
       "      <td>최준선</td>\n",
       "      <td>[[[저자 : ], [최준선 ]], [[출간 : ], [2021-11-30]], [...</td>\n",
       "      <td>2021-11-30</td>\n",
       "      <td>328 쪽</td>\n",
       "      <td>22000</td>\n",
       "      <td>19800</td>\n",
       "      <td>1,1</td>\n",
       "    </tr>\n",
       "    <tr>\n",
       "      <th>6</th>\n",
       "      <td>데이터 과학자 되는 법</td>\n",
       "      <td>에밀리 로빈슨 , 재클린 놀리스</td>\n",
       "      <td>이창화</td>\n",
       "      <td>2021-11-26</td>\n",
       "      <td>2021-11-26</td>\n",
       "      <td>24000</td>\n",
       "      <td>21600</td>\n",
       "      <td>1,2</td>\n",
       "    </tr>\n",
       "    <tr>\n",
       "      <th>7</th>\n",
       "      <td>돈 되는 기획</td>\n",
       "      <td>김도균</td>\n",
       "      <td>[[[저자 : ], [김도균 ]], [[출간 : ], [2021-11-26]], [...</td>\n",
       "      <td>2021-11-26</td>\n",
       "      <td>240 쪽</td>\n",
       "      <td>14500</td>\n",
       "      <td>13050</td>\n",
       "      <td>725</td>\n",
       "    </tr>\n",
       "    <tr>\n",
       "      <th>8</th>\n",
       "      <td>빠르게 찾아 바로 적용하는 엑셀 에센스 사전 100</td>\n",
       "      <td>한은숙</td>\n",
       "      <td>[[[저자 : ], [한은숙 ]], [[출간 : ], [2021-11-25]], [...</td>\n",
       "      <td>2021-11-25</td>\n",
       "      <td>300 쪽</td>\n",
       "      <td>18000</td>\n",
       "      <td>16200</td>\n",
       "      <td>900</td>\n",
       "    </tr>\n",
       "    <tr>\n",
       "      <th>9</th>\n",
       "      <td>초등 어휘력이 공부력이다</td>\n",
       "      <td>박명선</td>\n",
       "      <td>[[[저자 : ], [박명선 ]], [[출간 : ], [2021-11-25]], [...</td>\n",
       "      <td>2021-11-25</td>\n",
       "      <td>412 쪽</td>\n",
       "      <td>18000</td>\n",
       "      <td>16200</td>\n",
       "      <td>900</td>\n",
       "    </tr>\n",
       "    <tr>\n",
       "      <th>10</th>\n",
       "      <td>만화로 배우는 의학의 역사(개정판)</td>\n",
       "      <td>장 노엘 파비아니 , 필리프 베르코비치 , 김모 , 조한나</td>\n",
       "      <td>2021-11-15</td>\n",
       "      <td>296 쪽</td>\n",
       "      <td>296 쪽</td>\n",
       "      <td>20800</td>\n",
       "      <td>18720</td>\n",
       "      <td>1,0</td>\n",
       "    </tr>\n",
       "    <tr>\n",
       "      <th>11</th>\n",
       "      <td>스토리텔링 우동이즘의 잘 팔리는 웹툰, 웹소설 이야기 만들기</td>\n",
       "      <td>우동이즘(이동우)</td>\n",
       "      <td>[[[저자 : ], [우동이즘(이동우) ]], [[출간 : ], [2021-11-1...</td>\n",
       "      <td>2021-11-15</td>\n",
       "      <td>232 쪽</td>\n",
       "      <td>16000</td>\n",
       "      <td>14400</td>\n",
       "      <td>800</td>\n",
       "    </tr>\n",
       "    <tr>\n",
       "      <th>12</th>\n",
       "      <td>중학교 입학 가이드</td>\n",
       "      <td>배혜림</td>\n",
       "      <td>[[[저자 : ], [배혜림 ]], [[출간 : ], [2021-11-11]], [...</td>\n",
       "      <td>2021-11-11</td>\n",
       "      <td>376 쪽</td>\n",
       "      <td>16500</td>\n",
       "      <td>14850</td>\n",
       "      <td>825</td>\n",
       "    </tr>\n",
       "    <tr>\n",
       "      <th>13</th>\n",
       "      <td>보고서 작성 실무 강의(개정판)</td>\n",
       "      <td>홍장표</td>\n",
       "      <td>2021-11-08</td>\n",
       "      <td>400 쪽</td>\n",
       "      <td>400 쪽</td>\n",
       "      <td>18000</td>\n",
       "      <td>16200</td>\n",
       "      <td>900</td>\n",
       "    </tr>\n",
       "    <tr>\n",
       "      <th>14</th>\n",
       "      <td>비겁한 돈</td>\n",
       "      <td>황현희 , 제갈현열</td>\n",
       "      <td>[[[저자 : ], [황현희 , 제갈현열 ]], [[출간 : ], [2021-11-...</td>\n",
       "      <td>2021-11-08</td>\n",
       "      <td>248 쪽</td>\n",
       "      <td>16000</td>\n",
       "      <td>14400</td>\n",
       "      <td>800</td>\n",
       "    </tr>\n",
       "    <tr>\n",
       "      <th>15</th>\n",
       "      <td>나도 영문 손글씨 잘 쓰면 소원이 없겠네</td>\n",
       "      <td>윤정희(리제 캘리그라피)</td>\n",
       "      <td>[[[저자 : ], [윤정희(리제 캘리그라피) ]], [[출간 : ], [2021-...</td>\n",
       "      <td>2021-11-05</td>\n",
       "      <td>240 쪽</td>\n",
       "      <td>16800</td>\n",
       "      <td>15120</td>\n",
       "      <td>840</td>\n",
       "    </tr>\n",
       "    <tr>\n",
       "      <th>16</th>\n",
       "      <td>구글 BERT의 정석</td>\n",
       "      <td>수다르산 라비찬디란</td>\n",
       "      <td>전희원 , 정승환 , 김형준</td>\n",
       "      <td>2021-11-03</td>\n",
       "      <td>2021-11-03</td>\n",
       "      <td>34000</td>\n",
       "      <td>30600</td>\n",
       "      <td>1,7</td>\n",
       "    </tr>\n",
       "    <tr>\n",
       "      <th>17</th>\n",
       "      <td>1000개 숨은그림찾기 몬스터 : 찾아도 찾아도 끝판왕</td>\n",
       "      <td>김확실</td>\n",
       "      <td>[[[저자 : ], [김확실 ]], [[출간 : ], [2021-11-02]], [...</td>\n",
       "      <td>2021-11-02</td>\n",
       "      <td>96 쪽</td>\n",
       "      <td>8000원</td>\n",
       "      <td>7200원</td>\n",
       "      <td>400</td>\n",
       "    </tr>\n",
       "    <tr>\n",
       "      <th>18</th>\n",
       "      <td>1000개 숨은그림찾기 보물찾기 : 찾아도 찾아도 끝판왕</td>\n",
       "      <td>전진희</td>\n",
       "      <td>[[[저자 : ], [전진희 ]], [[출간 : ], [2021-11-02]], [...</td>\n",
       "      <td>2021-11-02</td>\n",
       "      <td>96 쪽</td>\n",
       "      <td>8000원</td>\n",
       "      <td>7200원</td>\n",
       "      <td>400</td>\n",
       "    </tr>\n",
       "    <tr>\n",
       "      <th>19</th>\n",
       "      <td>1000개 숨은그림찾기 탈것 : 찾아도 찾아도 끝판왕</td>\n",
       "      <td>이한이</td>\n",
       "      <td>[[[저자 : ], [이한이 ]], [[출간 : ], [2021-11-02]], [...</td>\n",
       "      <td>2021-11-02</td>\n",
       "      <td>96 쪽</td>\n",
       "      <td>8000원</td>\n",
       "      <td>7200원</td>\n",
       "      <td>400</td>\n",
       "    </tr>\n",
       "  </tbody>\n",
       "</table>\n",
       "</div>"
      ],
      "text/plain": [
       "                                   제목                                    저자  \\\n",
       "0                     하루 한 장 초등과학 365                              치바 가즈요시    \n",
       "1                             다시, 배우다                                  폴 김    \n",
       "2               당당한 디자인 결정을 위한 9가지 방법                                톰 그리버    \n",
       "3              365 부모 말하기 연습 일력(스프링북)                            박재연 , 공인영    \n",
       "4                    공학도를 위한 수치해석(8판)  Steven C.Chapra , Raymond P. Canale    \n",
       "5                   엑셀 매크로&VBA 업무 공략집                                  최준선    \n",
       "6                        데이터 과학자 되는 법                    에밀리 로빈슨 , 재클린 놀리스    \n",
       "7                             돈 되는 기획                                  김도균    \n",
       "8        빠르게 찾아 바로 적용하는 엑셀 에센스 사전 100                                  한은숙    \n",
       "9                       초등 어휘력이 공부력이다                                  박명선    \n",
       "10                만화로 배우는 의학의 역사(개정판)     장 노엘 파비아니 , 필리프 베르코비치 , 김모 , 조한나    \n",
       "11  스토리텔링 우동이즘의 잘 팔리는 웹툰, 웹소설 이야기 만들기                            우동이즘(이동우)    \n",
       "12                         중학교 입학 가이드                                  배혜림    \n",
       "13                  보고서 작성 실무 강의(개정판)                                  홍장표    \n",
       "14                              비겁한 돈                           황현희 , 제갈현열    \n",
       "15             나도 영문 손글씨 잘 쓰면 소원이 없겠네                        윤정희(리제 캘리그라피)    \n",
       "16                        구글 BERT의 정석                           수다르산 라비찬디란    \n",
       "17     1000개 숨은그림찾기 몬스터 : 찾아도 찾아도 끝판왕                                  김확실    \n",
       "18    1000개 숨은그림찾기 보물찾기 : 찾아도 찾아도 끝판왕                                  전진희    \n",
       "19      1000개 숨은그림찾기 탈것 : 찾아도 찾아도 끝판왕                                  이한이    \n",
       "\n",
       "                                                   역자         출간일         페이지  \\\n",
       "0                                      허영은 , 유우종 (감수)  2021-12-14  2021-12-14   \n",
       "1   [[[저자 : ], [폴 김 ]], [[출간 : ], [2021-12-10]], [...  2021-12-10       304 쪽   \n",
       "2                                           김민성 , 곽서희  2021-12-10  2021-12-10   \n",
       "3   [[[저자 : ], [박재연 , 공인영 ]], [[출간 : ], [2021-12-0...  2021-12-01       384 쪽   \n",
       "4                                      나양 , 이승배 , 임윤철  2021-11-30  2021-11-30   \n",
       "5   [[[저자 : ], [최준선 ]], [[출간 : ], [2021-11-30]], [...  2021-11-30       328 쪽   \n",
       "6                                                 이창화  2021-11-26  2021-11-26   \n",
       "7   [[[저자 : ], [김도균 ]], [[출간 : ], [2021-11-26]], [...  2021-11-26       240 쪽   \n",
       "8   [[[저자 : ], [한은숙 ]], [[출간 : ], [2021-11-25]], [...  2021-11-25       300 쪽   \n",
       "9   [[[저자 : ], [박명선 ]], [[출간 : ], [2021-11-25]], [...  2021-11-25       412 쪽   \n",
       "10                                         2021-11-15       296 쪽       296 쪽   \n",
       "11  [[[저자 : ], [우동이즘(이동우) ]], [[출간 : ], [2021-11-1...  2021-11-15       232 쪽   \n",
       "12  [[[저자 : ], [배혜림 ]], [[출간 : ], [2021-11-11]], [...  2021-11-11       376 쪽   \n",
       "13                                         2021-11-08       400 쪽       400 쪽   \n",
       "14  [[[저자 : ], [황현희 , 제갈현열 ]], [[출간 : ], [2021-11-...  2021-11-08       248 쪽   \n",
       "15  [[[저자 : ], [윤정희(리제 캘리그라피) ]], [[출간 : ], [2021-...  2021-11-05       240 쪽   \n",
       "16                                    전희원 , 정승환 , 김형준  2021-11-03  2021-11-03   \n",
       "17  [[[저자 : ], [김확실 ]], [[출간 : ], [2021-11-02]], [...  2021-11-02        96 쪽   \n",
       "18  [[[저자 : ], [전진희 ]], [[출간 : ], [2021-11-02]], [...  2021-11-02        96 쪽   \n",
       "19  [[[저자 : ], [이한이 ]], [[출간 : ], [2021-11-02]], [...  2021-11-02        96 쪽   \n",
       "\n",
       "       정가    할인가 마일리지  \n",
       "0   19800  17820  990  \n",
       "1   16000  14400  800  \n",
       "2   22000  19800  1,1  \n",
       "3   18000  16200  900  \n",
       "4   36000  36000  1,0  \n",
       "5   22000  19800  1,1  \n",
       "6   24000  21600  1,2  \n",
       "7   14500  13050  725  \n",
       "8   18000  16200  900  \n",
       "9   18000  16200  900  \n",
       "10  20800  18720  1,0  \n",
       "11  16000  14400  800  \n",
       "12  16500  14850  825  \n",
       "13  18000  16200  900  \n",
       "14  16000  14400  800  \n",
       "15  16800  15120  840  \n",
       "16  34000  30600  1,7  \n",
       "17  8000원  7200원  400  \n",
       "18  8000원  7200원  400  \n",
       "19  8000원  7200원  400  "
      ]
     },
     "execution_count": 470,
     "metadata": {},
     "output_type": "execute_result"
    }
   ],
   "source": [
    "df = pd.DataFrame(lines, columns=['제목','저자','역자','출간일','페이지','정가','할인가','마일리지'])\n",
    "df"
   ]
  },
  {
   "cell_type": "code",
   "execution_count": null,
   "metadata": {},
   "outputs": [],
   "source": []
  }
 ],
 "metadata": {
  "interpreter": {
   "hash": "548f47d4ec0dc4112fdad0943bac241a01e6527a6c4e48b09b6eb2fedd600273"
  },
  "kernelspec": {
   "display_name": "Python 3.8.8 64-bit ('base': conda)",
   "language": "python",
   "name": "python3"
  },
  "language_info": {
   "codemirror_mode": {
    "name": "ipython",
    "version": 3
   },
   "file_extension": ".py",
   "mimetype": "text/x-python",
   "name": "python",
   "nbconvert_exporter": "python",
   "pygments_lexer": "ipython3",
   "version": "3.8.8"
  },
  "orig_nbformat": 4
 },
 "nbformat": 4,
 "nbformat_minor": 2
}
