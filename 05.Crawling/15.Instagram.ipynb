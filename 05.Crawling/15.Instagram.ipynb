{
 "cells": [
  {
   "cell_type": "code",
   "execution_count": 176,
   "metadata": {},
   "outputs": [],
   "source": [
    "from selenium import webdriver\n",
    "from bs4 import BeautifulSoup\n",
    "import time\n",
    "import pandas as pd \n",
    "from urllib.parse import quote"
   ]
  },
  {
   "cell_type": "code",
   "execution_count": 177,
   "metadata": {},
   "outputs": [],
   "source": [
    "import unicodedata\n",
    "import re\n",
    "from tqdm.notebook import tqdm"
   ]
  },
  {
   "cell_type": "code",
   "execution_count": 179,
   "metadata": {},
   "outputs": [],
   "source": [
    "insta_url = 'https://www.instagram.com'\n",
    "driver = webdriver.Chrome('chromedriver')\n",
    "driver.get(insta_url)\n",
    "time.sleep(1)"
   ]
  },
  {
   "cell_type": "code",
   "execution_count": 180,
   "metadata": {},
   "outputs": [],
   "source": [
    "driver.find_element_by_css_selector('.sqdOP.yWX7d.y3zKF').click()\n"
   ]
  },
  {
   "cell_type": "code",
   "execution_count": 153,
   "metadata": {},
   "outputs": [],
   "source": [
    "with open('password.txt') as f:\n",
    "    password = f.read()"
   ]
  },
  {
   "cell_type": "code",
   "execution_count": 154,
   "metadata": {},
   "outputs": [],
   "source": [
    "email = 'gustmd6255@daum.net'\n",
    "input_email = driver.find_element_by_css_selector('.inputtext._55r1.inputtext._1kbt.inputtext._1kbt')\n",
    "input_email.clear()\n",
    "input_email.send_keys(email)"
   ]
  },
  {
   "cell_type": "code",
   "execution_count": 155,
   "metadata": {},
   "outputs": [],
   "source": [
    "input_pwd = driver.find_element_by_name('pass')\n",
    "input_pwd.clear()\n",
    "input_pwd.send_keys(password)\n",
    "input_pwd.submit()\n",
    "time.sleep(1)"
   ]
  },
  {
   "cell_type": "code",
   "execution_count": 156,
   "metadata": {},
   "outputs": [],
   "source": [
    "# 로그인 정보 저장 - 나중에 하기\n",
    "try:\n",
    "    driver.find_element_by_css_selector('.sqdOP.yWX7d.y3zKF').click()\n",
    "    time.sleep(1)\n",
    "except:\n",
    "    pass"
   ]
  },
  {
   "cell_type": "code",
   "execution_count": 157,
   "metadata": {},
   "outputs": [],
   "source": [
    "# 알림 설정 - 나중에 하기\n",
    "try:\n",
    "    driver.find_element_by_css_selector('.aOOlW.HoLwm').click()\n",
    "    time.sleep(1)\n",
    "except:\n",
    "    pass"
   ]
  },
  {
   "cell_type": "code",
   "execution_count": null,
   "metadata": {},
   "outputs": [],
   "source": [
    "https://www.instagram.com/jeju_hot_place/"
   ]
  },
  {
   "cell_type": "code",
   "execution_count": 166,
   "metadata": {},
   "outputs": [
    {
     "data": {
      "text/plain": [
       "'https://www.instagram.com/jeju_hot_place/'"
      ]
     },
     "execution_count": 166,
     "metadata": {},
     "output_type": "execute_result"
    }
   ],
   "source": [
    "keyword = 'jeju_hot_place/'\n",
    "search_url = 'https://www.instagram.com/'\n",
    "url = f'{search_url}{quote(keyword)}'\n",
    "url"
   ]
  },
  {
   "cell_type": "code",
   "execution_count": 168,
   "metadata": {},
   "outputs": [],
   "source": [
    "driver.get(url)\n",
    "time.sleep(5)"
   ]
  },
  {
   "cell_type": "code",
   "execution_count": 126,
   "metadata": {},
   "outputs": [],
   "source": [
    "driver.find_element_by_css_selector('div._9AhH0').click()\n",
    "time.sleep(1)"
   ]
  },
  {
   "cell_type": "code",
   "execution_count": 127,
   "metadata": {},
   "outputs": [],
   "source": [
    "html = driver.page_source\n",
    "soup = BeautifulSoup(html, 'html.parser')"
   ]
  },
  {
   "cell_type": "code",
   "execution_count": 128,
   "metadata": {},
   "outputs": [
    {
     "data": {
      "text/plain": [
       "'#이매진드랜드스케이프제주#버버리제주전시장:서귀포 방주교회에 버버리 팝업 스토어가 생겨서 요즘 어마어마하게 핫하더라구요! :그래서 제가 제주도 핫 플레이스 답게 한번 다녀와봤습니다.:버버리 이메진드 랜드스케이프는 예약방문이 필수인데 네이버예약하시면 편하게 가실 수 있어요.그러나 당일 현장 예약도 가능합니다! 저는 당일 현장 예약으로 방문했는데 30분 정도 기다렸어요. :모두 전시장 입구 쪽에서 사진 많이 찍으시는데 전시장 앞에 사람들이 많았다가 한번에 사라질때가 있어요.그때를 노려 단독사진을 찍으시면 됩니다!:그리고 한가지 더 꿀팁은 토마스카페대기가 전시장 대기보다 더 오래걸려요..그래서 주차하시고 들어오면 토마스카페에 대기예약을 먼저 하시고 전시장 예약을 하시면 전시가 끝나고 커피를 마실 수 있게됩니다! :저는 카페예약을 먼저했는데도 카페대기가 길어서 포기 ㅠㅠ :버버리 이매진드 랜드스케이프 에가시면 영상작품도 보시고 버버리 옷들과 가방 모자 등 자유롭게 입어보실 수 있으니 한번 방문해 보시는 걸 추천:#제주도핫플레이스#제주영의제주살이:#제주핫플 #버버리제주 #버버리팝업스토어 #제주버버리 #버버리카페 #방주교회 #제주방주교회 #제주버버리카페#서귀포핫플 #안덕핫플 #버버리제주팝업스토어 #버버리전시 #버버리가방 #버버리패딩'"
      ]
     },
     "execution_count": 128,
     "metadata": {},
     "output_type": "execute_result"
    }
   ],
   "source": [
    "# 1) 본문 내용 가져오기\n",
    "\n",
    "try:\n",
    "    content = soup.select_one('div.C4VMK > span').text\n",
    "    content = unicodedata.normalize('NFC', content)\n",
    "except:\n",
    "    content = ' '\n",
    "content"
   ]
  },
  {
   "cell_type": "code",
   "execution_count": 129,
   "metadata": {},
   "outputs": [
    {
     "data": {
      "text/plain": [
       "['#이매진드랜드스케이프제주',\n",
       " '#버버리제주전시장:서귀포',\n",
       " '#제주도핫플레이스',\n",
       " '#제주영의제주살이:',\n",
       " '#제주핫플',\n",
       " '#버버리제주',\n",
       " '#버버리팝업스토어',\n",
       " '#제주버버리',\n",
       " '#버버리카페',\n",
       " '#방주교회',\n",
       " '#제주방주교회',\n",
       " '#제주버버리카페',\n",
       " '#서귀포핫플',\n",
       " '#안덕핫플',\n",
       " '#버버리제주팝업스토어',\n",
       " '#버버리전시',\n",
       " '#버버리가방',\n",
       " '#버버리패딩']"
      ]
     },
     "execution_count": 129,
     "metadata": {},
     "output_type": "execute_result"
    }
   ],
   "source": [
    "# 2) 본문 내용에서 해쉬태그 가져오기, '#[^\\s#,\\\\]+'\n",
    "tags = re.findall(r'#[^\\s#,\\\\]+', content)\n",
    "tags"
   ]
  },
  {
   "cell_type": "code",
   "execution_count": 130,
   "metadata": {},
   "outputs": [
    {
     "data": {
      "text/plain": [
       "'2021-12-04'"
      ]
     },
     "execution_count": 130,
     "metadata": {},
     "output_type": "execute_result"
    }
   ],
   "source": [
    "# 3) 작성일자 정보 가져오기\n",
    "date = soup.select_one('time.FH9sR.Nzb55')['datetime'][:10]\n",
    "date"
   ]
  },
  {
   "cell_type": "code",
   "execution_count": 131,
   "metadata": {},
   "outputs": [
    {
     "data": {
      "text/plain": [
       "'unmoru님 여러 명이 좋아합니다'"
      ]
     },
     "execution_count": 131,
     "metadata": {},
     "output_type": "execute_result"
    }
   ],
   "source": [
    "# 4) 좋아요 수 가져오기: 좋아요 1,296개\n",
    "try:\n",
    "    like = soup.select_one('div.Nm9Fw').text[4:]\n",
    "except:\n",
    "    like = 0\n",
    "like"
   ]
  },
  {
   "cell_type": "code",
   "execution_count": 132,
   "metadata": {},
   "outputs": [
    {
     "data": {
      "text/plain": [
       "''"
      ]
     },
     "execution_count": 132,
     "metadata": {},
     "output_type": "execute_result"
    }
   ],
   "source": [
    "# 5) 위치정보 가져오기\n",
    "try:\n",
    "    place = soup.select('div.M30cS')[0].text\n",
    "    place = unicodedata.normalize('NFC', place)\n",
    "except:\n",
    "    place = ''\n",
    "place"
   ]
  },
  {
   "cell_type": "code",
   "execution_count": 133,
   "metadata": {},
   "outputs": [
    {
     "data": {
      "text/plain": [
       "['#이매진드랜드스케이프제주#버버리제주전시장:서귀포 방주교회에 버버리 팝업 스토어가 생겨서 요즘 어마어마하게 핫하더라구요! :그래서 제가 제주도 핫 플레이스 답게 한번 다녀와봤습니다.:버버리 이메진드 랜드스케이프는 예약방문이 필수인데 네이버예약하시면 편하게 가실 수 있어요.그러나 당일 현장 예약도 가능합니다! 저는 당일 현장 예약으로 방문했는데 30분 정도 기다렸어요. :모두 전시장 입구 쪽에서 사진 많이 찍으시는데 전시장 앞에 사람들이 많았다가 한번에 사라질때가 있어요.그때를 노려 단독사진을 찍으시면 됩니다!:그리고 한가지 더 꿀팁은 토마스카페대기가 전시장 대기보다 더 오래걸려요..그래서 주차하시고 들어오면 토마스카페에 대기예약을 먼저 하시고 전시장 예약을 하시면 전시가 끝나고 커피를 마실 수 있게됩니다! :저는 카페예약을 먼저했는데도 카페대기가 길어서 포기 ㅠㅠ :버버리 이매진드 랜드스케이프 에가시면 영상작품도 보시고 버버리 옷들과 가방 모자 등 자유롭게 입어보실 수 있으니 한번 방문해 보시는 걸 추천:#제주도핫플레이스#제주영의제주살이:#제주핫플 #버버리제주 #버버리팝업스토어 #제주버버리 #버버리카페 #방주교회 #제주방주교회 #제주버버리카페#서귀포핫플 #안덕핫플 #버버리제주팝업스토어 #버버리전시 #버버리가방 #버버리패딩',\n",
       " '2021-12-04',\n",
       " 'unmoru님 여러 명이 좋아합니다',\n",
       " '',\n",
       " ['#이매진드랜드스케이프제주',\n",
       "  '#버버리제주전시장:서귀포',\n",
       "  '#제주도핫플레이스',\n",
       "  '#제주영의제주살이:',\n",
       "  '#제주핫플',\n",
       "  '#버버리제주',\n",
       "  '#버버리팝업스토어',\n",
       "  '#제주버버리',\n",
       "  '#버버리카페',\n",
       "  '#방주교회',\n",
       "  '#제주방주교회',\n",
       "  '#제주버버리카페',\n",
       "  '#서귀포핫플',\n",
       "  '#안덕핫플',\n",
       "  '#버버리제주팝업스토어',\n",
       "  '#버버리전시',\n",
       "  '#버버리가방',\n",
       "  '#버버리패딩']]"
      ]
     },
     "execution_count": 133,
     "metadata": {},
     "output_type": "execute_result"
    }
   ],
   "source": [
    "row = [content, date, like, place, tags]\n",
    "row"
   ]
  },
  {
   "cell_type": "markdown",
   "metadata": {},
   "source": [
    "- ### 다음페이지 이동"
   ]
  },
  {
   "cell_type": "code",
   "execution_count": 134,
   "metadata": {},
   "outputs": [],
   "source": [
    "driver.find_element_by_xpath('/html/body/div[6]/div[1]/div/div/div/button/div/span').click()\n",
    "time.sleep(2)"
   ]
  },
  {
   "cell_type": "code",
   "execution_count": null,
   "metadata": {},
   "outputs": [],
   "source": [
    "#\n",
    "#/html/body/div[6]/div[1]/div/div/div[2]/button"
   ]
  },
  {
   "cell_type": "code",
   "execution_count": 136,
   "metadata": {},
   "outputs": [],
   "source": [
    "driver.find_element_by_xpath('/html/body/div[6]/div[1]/div/div/div[2]/button').click()\n",
    "time.sleep(2)"
   ]
  },
  {
   "cell_type": "code",
   "execution_count": null,
   "metadata": {},
   "outputs": [],
   "source": [
    "#/html/body/div[6]/div[3]/button"
   ]
  },
  {
   "cell_type": "code",
   "execution_count": 137,
   "metadata": {},
   "outputs": [],
   "source": [
    "# 6을 하기 위해 popup 화면을 없앰(즉, X 를 클릭)\n",
    "driver.find_element_by_xpath('/html/body/div[6]/div[3]/button').click()"
   ]
  },
  {
   "cell_type": "code",
   "execution_count": 138,
   "metadata": {},
   "outputs": [],
   "source": [
    "def get_content(driver):\n",
    "    html = driver.page_source\n",
    "    soup = BeautifulSoup(html, 'html.parser')\n",
    "    \n",
    "    try:\n",
    "        content = soup.select_one('div.C4VMK > span').text\n",
    "        content = unicodedata.normalize('NFC', content)\n",
    "    except:\n",
    "        content = ' '\n",
    "    tags = re.findall(r'#[^\\s#,\\\\]+', content)\n",
    "    date = soup.select_one('time.FH9sR.Nzb55')['datetime'][:10]\n",
    "\n",
    "    try:\n",
    "        like = soup.select_one('div.Nm9Fw').text[4:-1]\n",
    "    except:\n",
    "        like = 0\n",
    "    try:\n",
    "        place = soup.select('div.M30cS')[0].text\n",
    "        place = unicodedata.normalize('NFC', place)\n",
    "    except:\n",
    "        place = ''\n",
    "\n",
    "    return [content, date, like, place, tags]"
   ]
  },
  {
   "cell_type": "code",
   "execution_count": 139,
   "metadata": {},
   "outputs": [],
   "source": [
    "driver.find_element_by_css_selector('div._9AhH0').click()\n",
    "time.sleep(1)\n"
   ]
  },
  {
   "cell_type": "code",
   "execution_count": 141,
   "metadata": {},
   "outputs": [
    {
     "data": {
      "application/vnd.jupyter.widget-view+json": {
       "model_id": "6da938fc624a4512864eda1cedf91dbd",
       "version_major": 2,
       "version_minor": 0
      },
      "text/plain": [
       "  0%|          | 0/100 [00:00<?, ?it/s]"
      ]
     },
     "metadata": {},
     "output_type": "display_data"
    }
   ],
   "source": [
    "results = []\n",
    "for _ in tqdm(range(100)):\n",
    "    try:\n",
    "        row = get_content(driver)\n",
    "        results.append(row)\n",
    "        driver.find_element_by_xpath('/html/body/div[6]/div[1]/div/div/div[2]/button').click()\n",
    "        time.sleep(3)        \n",
    "\n",
    "    except:\n",
    "        time.sleep(3)\n",
    "        driver.find_element_by_xpath('/html/body/div[6]/div[1]/div/div/div/button').click()\n",
    "        time.sleep(3)"
   ]
  },
  {
   "cell_type": "code",
   "execution_count": 142,
   "metadata": {},
   "outputs": [
    {
     "data": {
      "text/html": [
       "<div>\n",
       "<style scoped>\n",
       "    .dataframe tbody tr th:only-of-type {\n",
       "        vertical-align: middle;\n",
       "    }\n",
       "\n",
       "    .dataframe tbody tr th {\n",
       "        vertical-align: top;\n",
       "    }\n",
       "\n",
       "    .dataframe thead th {\n",
       "        text-align: right;\n",
       "    }\n",
       "</style>\n",
       "<table border=\"1\" class=\"dataframe\">\n",
       "  <thead>\n",
       "    <tr style=\"text-align: right;\">\n",
       "      <th></th>\n",
       "      <th>content</th>\n",
       "      <th>date</th>\n",
       "      <th>like</th>\n",
       "      <th>place</th>\n",
       "      <th>tags</th>\n",
       "    </tr>\n",
       "  </thead>\n",
       "  <tbody>\n",
       "    <tr>\n",
       "      <th>0</th>\n",
       "      <td>#이매진드랜드스케이프제주#버버리제주전시장:서귀포 방주교회에 버버리 팝업 스토어가 생...</td>\n",
       "      <td>2021-12-04</td>\n",
       "      <td>unmoru님 여러 명이 좋아합니</td>\n",
       "      <td></td>\n",
       "      <td>[#이매진드랜드스케이프제주, #버버리제주전시장:서귀포, #제주도핫플레이스, #제주영...</td>\n",
       "    </tr>\n",
       "    <tr>\n",
       "      <th>1</th>\n",
       "      <td>제주에서 예약하기 가장 힘든돈까스집 #연돈 .제주도에 살면서도 연돈먹기 힘들었는데드...</td>\n",
       "      <td>2021-12-04</td>\n",
       "      <td>orjeju님 여러 명이 좋아합니</td>\n",
       "      <td>연돈</td>\n",
       "      <td>[#연돈, #제주도핫플레이스, #제주영의제주살이., #서귀포연돈, #제주연돈, #제...</td>\n",
       "    </tr>\n",
       "    <tr>\n",
       "      <th>2</th>\n",
       "      <td>중문 히든클리프 근처에 고사리파스타로 유명한 #커트러리 에 다녀왔어요고사리파스타라니...</td>\n",
       "      <td>2021-11-27</td>\n",
       "      <td>eternite님 여러 명이 좋아합니</td>\n",
       "      <td></td>\n",
       "      <td>[#커트러리, #고사리파스타, #제주바당파스타, #제주영의제주살이, #제주도핫플레이...</td>\n",
       "    </tr>\n",
       "    <tr>\n",
       "      <th>3</th>\n",
       "      <td>서귀포 올레시장 주변에 색다른 치킨이 있다고 하여 다녀왔습니다.#댕귤치킨 그리고 #...</td>\n",
       "      <td>2021-11-23</td>\n",
       "      <td>ubaf_님 여러 명이 좋아합니</td>\n",
       "      <td></td>\n",
       "      <td>[#댕귤치킨, #까망치킨, #제주스럽닭, #제주스럽닭서귀포올레점, #제주영의제주살이...</td>\n",
       "    </tr>\n",
       "    <tr>\n",
       "      <th>4</th>\n",
       "      <td>안덕에 자연주의 레스토랑으로 유명한 “두엔데”에 다녀왔어요.두엔데는 총 3채의 공간...</td>\n",
       "      <td>2021-11-23</td>\n",
       "      <td>_heritage님 여러 명이 좋아합니</td>\n",
       "      <td>두엔데 - Duende</td>\n",
       "      <td>[#두엔데., #제주영의제주살이, #제주도핫플레이스, #안덕핫플, #안덕맛집, #안...</td>\n",
       "    </tr>\n",
       "  </tbody>\n",
       "</table>\n",
       "</div>"
      ],
      "text/plain": [
       "                                             content        date  \\\n",
       "0  #이매진드랜드스케이프제주#버버리제주전시장:서귀포 방주교회에 버버리 팝업 스토어가 생...  2021-12-04   \n",
       "1  제주에서 예약하기 가장 힘든돈까스집 #연돈 .제주도에 살면서도 연돈먹기 힘들었는데드...  2021-12-04   \n",
       "2  중문 히든클리프 근처에 고사리파스타로 유명한 #커트러리 에 다녀왔어요고사리파스타라니...  2021-11-27   \n",
       "3  서귀포 올레시장 주변에 색다른 치킨이 있다고 하여 다녀왔습니다.#댕귤치킨 그리고 #...  2021-11-23   \n",
       "4  안덕에 자연주의 레스토랑으로 유명한 “두엔데”에 다녀왔어요.두엔데는 총 3채의 공간...  2021-11-23   \n",
       "\n",
       "                    like         place  \\\n",
       "0     unmoru님 여러 명이 좋아합니                 \n",
       "1     orjeju님 여러 명이 좋아합니            연돈   \n",
       "2   eternite님 여러 명이 좋아합니                 \n",
       "3      ubaf_님 여러 명이 좋아합니                 \n",
       "4  _heritage님 여러 명이 좋아합니  두엔데 - Duende   \n",
       "\n",
       "                                                tags  \n",
       "0  [#이매진드랜드스케이프제주, #버버리제주전시장:서귀포, #제주도핫플레이스, #제주영...  \n",
       "1  [#연돈, #제주도핫플레이스, #제주영의제주살이., #서귀포연돈, #제주연돈, #제...  \n",
       "2  [#커트러리, #고사리파스타, #제주바당파스타, #제주영의제주살이, #제주도핫플레이...  \n",
       "3  [#댕귤치킨, #까망치킨, #제주스럽닭, #제주스럽닭서귀포올레점, #제주영의제주살이...  \n",
       "4  [#두엔데., #제주영의제주살이, #제주도핫플레이스, #안덕핫플, #안덕맛집, #안...  "
      ]
     },
     "execution_count": 142,
     "metadata": {},
     "output_type": "execute_result"
    }
   ],
   "source": [
    "df = pd.DataFrame(results, columns=['content','date','like','place','tags'])\n",
    "df.head()"
   ]
  },
  {
   "cell_type": "code",
   "execution_count": 143,
   "metadata": {},
   "outputs": [
    {
     "data": {
      "text/plain": [
       "(100, 5)"
      ]
     },
     "execution_count": 143,
     "metadata": {},
     "output_type": "execute_result"
    }
   ],
   "source": [
    "df.drop_duplicates(subset='content', keep='first', inplace=True)\n",
    "df.shape"
   ]
  },
  {
   "cell_type": "code",
   "execution_count": 147,
   "metadata": {},
   "outputs": [],
   "source": [
    "df.to_csv('인스타-제주도 핫플레이스.csv', index=False)"
   ]
  },
  {
   "cell_type": "code",
   "execution_count": 171,
   "metadata": {},
   "outputs": [],
   "source": [
    "df['place'].to_csv('제주도 핫플레이스 위치.csv', index=False)"
   ]
  },
  {
   "cell_type": "code",
   "execution_count": null,
   "metadata": {},
   "outputs": [],
   "source": []
  }
 ],
 "metadata": {
  "interpreter": {
   "hash": "b25c465b1c18d956483426a8691b47b486d8d9b6837da05c7a56549aad74826f"
  },
  "kernelspec": {
   "display_name": "Python 3.8.8 64-bit ('base': conda)",
   "language": "python",
   "name": "python3"
  },
  "language_info": {
   "codemirror_mode": {
    "name": "ipython",
    "version": 3
   },
   "file_extension": ".py",
   "mimetype": "text/x-python",
   "name": "python",
   "nbconvert_exporter": "python",
   "pygments_lexer": "ipython3",
   "version": "3.8.8"
  },
  "orig_nbformat": 4
 },
 "nbformat": 4,
 "nbformat_minor": 2
}
