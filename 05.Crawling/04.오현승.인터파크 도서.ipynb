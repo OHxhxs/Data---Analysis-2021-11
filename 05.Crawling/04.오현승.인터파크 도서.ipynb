{
 "cells": [
  {
   "cell_type": "code",
   "execution_count": 35,
   "metadata": {},
   "outputs": [],
   "source": [
    "import requests\n",
    "from urllib.parse import quote\n",
    "import pandas as pd\n",
    "from bs4 import BeautifulSoup"
   ]
  },
  {
   "cell_type": "code",
   "execution_count": 36,
   "metadata": {},
   "outputs": [],
   "source": [
    "url = 'http://book.interpark.com/display/collectlist.do?_method=bestsellerHourNew&bookblockname=b_gnb&booklinkname=%BA%A3%BD%BA%C6%AE%C1%B8&bid1=w_bgnb&bid2=LiveRanking&bid3=main&bid4=001'\n",
    "req =  requests.get(url)\n",
    "html = req.text\n",
    "\n"
   ]
  },
  {
   "cell_type": "code",
   "execution_count": 37,
   "metadata": {},
   "outputs": [],
   "source": [
    "soup = BeautifulSoup(html, 'html.parser')"
   ]
  },
  {
   "cell_type": "code",
   "execution_count": 38,
   "metadata": {},
   "outputs": [],
   "source": [
    "bse = soup.select('div.rankBestContentList > ol > li')"
   ]
  },
  {
   "cell_type": "code",
   "execution_count": 39,
   "metadata": {},
   "outputs": [],
   "source": [
    "bs = bse[11]\n"
   ]
  },
  {
   "cell_type": "code",
   "execution_count": 40,
   "metadata": {},
   "outputs": [
    {
     "data": {
      "text/plain": [
       "'12'"
      ]
     },
     "execution_count": 40,
     "metadata": {},
     "output_type": "execute_result"
    }
   ],
   "source": [
    "#순위\n",
    "#rank = bs.select_one('.rankNumber.digit2').find('span')['class'][1][-1:]\n",
    "rank = bs.select('.rankNumber.digit2>span')\n",
    "if len(rank) == 1 :\n",
    "    rank = bs.select_one('.rankNumber.digit2').find('span')['class'][1][-1:]\n",
    "else:\n",
    "    rank = bs.select_one('.rankNumber.digit2').find('span')['class'][1][-1:] + bs.select_one('.rankNumber.digit2').find_all('span')[1]['class'][1][-1:]\n",
    "rank"
   ]
  },
  {
   "cell_type": "code",
   "execution_count": 41,
   "metadata": {},
   "outputs": [
    {
     "data": {
      "text/plain": [
       "'투자는 디테일에 있다 '"
      ]
     },
     "execution_count": 41,
     "metadata": {},
     "output_type": "execute_result"
    }
   ],
   "source": [
    "#title\n",
    "title = bs.select_one('div.itemName').get_text()\n",
    "title"
   ]
  },
  {
   "cell_type": "code",
   "execution_count": 42,
   "metadata": {},
   "outputs": [
    {
     "data": {
      "text/plain": [
       "16200"
      ]
     },
     "execution_count": 42,
     "metadata": {},
     "output_type": "execute_result"
    }
   ],
   "source": [
    "#가격\n",
    "price = bs.select_one('div.priceWrap').get_text().split('\\n')[2:4]\n",
    "price = int(price[0].replace(',',''))\n",
    "price\n"
   ]
  },
  {
   "cell_type": "code",
   "execution_count": 43,
   "metadata": {},
   "outputs": [
    {
     "data": {
      "text/plain": [
       "'354069935'"
      ]
     },
     "execution_count": 43,
     "metadata": {},
     "output_type": "execute_result"
    }
   ],
   "source": [
    "bs = bse[0]\n",
    "href = bs.find('a')['href'][69:78]\n",
    "href"
   ]
  },
  {
   "cell_type": "code",
   "execution_count": 44,
   "metadata": {},
   "outputs": [
    {
     "data": {
      "text/plain": [
       "'http://book.interpark.com/product/BookDisplay.do?_method=detail&sc.shopNo=0000400000&sc.prdNo=354069935&sc.saNo=003003001&bid1=Best_zone&bid2=LiveRanking&bid3=PRD&bid4=001'"
      ]
     },
     "execution_count": 44,
     "metadata": {},
     "output_type": "execute_result"
    }
   ],
   "source": [
    "sub_url = f'http://book.interpark.com/product/BookDisplay.do?_method=detail&sc.shopNo=0000400000&sc.prdNo={href}&sc.saNo=003003001&bid1=Best_zone&bid2=LiveRanking&bid3=PRD&bid4=001'\n",
    "sub_url"
   ]
  },
  {
   "cell_type": "code",
   "execution_count": 45,
   "metadata": {},
   "outputs": [],
   "source": [
    "sub_req =  requests.get(sub_url)\n",
    "sub_html = sub_req.text\n",
    "sub_soup = BeautifulSoup(sub_html, 'html.parser')\n"
   ]
  },
  {
   "cell_type": "code",
   "execution_count": 46,
   "metadata": {},
   "outputs": [
    {
     "data": {
      "text/plain": [
       "'김난도, 전미영, 최지혜, 이향은, 이준영'"
      ]
     },
     "execution_count": 46,
     "metadata": {},
     "output_type": "execute_result"
    }
   ],
   "source": [
    "#저자\n",
    "writer = sub_soup.select_one('div.bookInfoBox').find('ul').get_text().split('\\n')[1][4:]\n",
    "writer\n"
   ]
  },
  {
   "cell_type": "code",
   "execution_count": 47,
   "metadata": {},
   "outputs": [
    {
     "data": {
      "text/plain": [
       "'미래의창'"
      ]
     },
     "execution_count": 47,
     "metadata": {},
     "output_type": "execute_result"
    }
   ],
   "source": [
    "#출판사\n",
    "company = sub_soup.select_one('div.bookInfoBox').find('ul').get_text().split('\\n')[2][6:]\n",
    "company"
   ]
  },
  {
   "cell_type": "code",
   "execution_count": 52,
   "metadata": {},
   "outputs": [
    {
     "data": {
      "text/plain": [
       "'2021년 04월 28일'"
      ]
     },
     "execution_count": 52,
     "metadata": {},
     "output_type": "execute_result"
    }
   ],
   "source": [
    "# 발행일\n",
    "year = sub_soup.select_one('div.bookInfoBox').get_text().split('\\n')[4][5:]\n",
    "year"
   ]
  },
  {
   "cell_type": "code",
   "execution_count": 49,
   "metadata": {},
   "outputs": [
    {
     "data": {
      "text/plain": [
       "'452'"
      ]
     },
     "execution_count": 49,
     "metadata": {},
     "output_type": "execute_result"
    }
   ],
   "source": [
    "# 쪽수\n",
    "page = sub_soup.select_one('div.bookInfoBox').get_text().split('\\n')[-4][5:]\n",
    "page"
   ]
  },
  {
   "cell_type": "code",
   "execution_count": 50,
   "metadata": {},
   "outputs": [],
   "source": [
    "lines = []\n",
    "for bs in bse:\n",
    "    href = bs.find('a')['href'][69:78]\n",
    "    rank = bs.select('.rankNumber.digit2>span')\n",
    "    if len(rank) == 1 :\n",
    "        rank = bs.select_one('.rankNumber.digit2').find('span')['class'][1][-1:]\n",
    "    else:\n",
    "        rank = bs.select_one('.rankNumber.digit2').find('span')['class'][1][-1:] + bs.select_one('.rankNumber.digit2').find_all('span')[1]['class'][1][-1:]\n",
    "    title = bs.select_one('div.itemName').get_text()\n",
    "    price = bs.select_one('div.priceWrap').get_text().split('\\n')[2:4]\n",
    "    price = int(price[0].replace(',',''))\n",
    "    price\n",
    "\n",
    "    sub_url = f'http://book.interpark.com/product/BookDisplay.do?_method=detail&sc.shopNo=0000400000&sc.prdNo={href}&sc.saNo=003003001&bid1=Best_zone&bid2=LiveRanking&bid3=PRD&bid4=001'\n",
    "    sub_req =  requests.get(sub_url)\n",
    "    sub_html = sub_req.text\n",
    "    sub_soup = BeautifulSoup(sub_html, 'html.parser')\n",
    "    writer = sub_soup.select_one('div.bookInfoBox').find('ul').get_text().split('\\n')[1][4:]\n",
    "    company = sub_soup.select_one('div.bookInfoBox').find('ul').get_text().split('\\n')[2][6:]\n",
    "    year = sub_soup.select_one('div.bookInfoBox').get_text().split('\\n')[4][5:]\n",
    "    page = sub_soup.select_one('div.bookInfoBox').get_text().split('\\n')[-4][5:]\n",
    "\n",
    "    lines.append([rank,title,price,writer,company,year,page])\n",
    "    "
   ]
  },
  {
   "cell_type": "code",
   "execution_count": 59,
   "metadata": {},
   "outputs": [
    {
     "data": {
      "text/html": [
       "<div>\n",
       "<style scoped>\n",
       "    .dataframe tbody tr th:only-of-type {\n",
       "        vertical-align: middle;\n",
       "    }\n",
       "\n",
       "    .dataframe tbody tr th {\n",
       "        vertical-align: top;\n",
       "    }\n",
       "\n",
       "    .dataframe thead th {\n",
       "        text-align: right;\n",
       "    }\n",
       "</style>\n",
       "<table border=\"1\" class=\"dataframe\">\n",
       "  <thead>\n",
       "    <tr style=\"text-align: right;\">\n",
       "      <th></th>\n",
       "      <th>순위</th>\n",
       "      <th>제목</th>\n",
       "      <th>가격</th>\n",
       "      <th>저자</th>\n",
       "      <th>출판사</th>\n",
       "      <th>발행일</th>\n",
       "      <th>쪽수</th>\n",
       "    </tr>\n",
       "  </thead>\n",
       "  <tbody>\n",
       "    <tr>\n",
       "      <th>0</th>\n",
       "      <td>1</td>\n",
       "      <td>트렌드 코리아 2022</td>\n",
       "      <td>16200</td>\n",
       "      <td>김난도, 전미영, 최지혜, 이향은, 이준영</td>\n",
       "      <td>미래의창</td>\n",
       "      <td>2021년 10월 06일</td>\n",
       "      <td>452</td>\n",
       "    </tr>\n",
       "    <tr>\n",
       "      <th>1</th>\n",
       "      <td>2</td>\n",
       "      <td>2022 현직교사들이 들려주는 면접레시피</td>\n",
       "      <td>42300</td>\n",
       "      <td>류은진, 양왕경, 이광한, 이지혜, 양왕경, 이광한, 이지혜</td>\n",
       "      <td>미래가치</td>\n",
       "      <td>2021년 11월 12일</td>\n",
       "      <td>1104</td>\n",
       "    </tr>\n",
       "    <tr>\n",
       "      <th>2</th>\n",
       "      <td>3</td>\n",
       "      <td>아직 오지 않은 날들을 위하여</td>\n",
       "      <td>14400</td>\n",
       "      <td>파스칼 브뤼크네르역 : 이세진</td>\n",
       "      <td>인플루엔셜</td>\n",
       "      <td>2021년 11월 12일</td>\n",
       "      <td>320</td>\n",
       "    </tr>\n",
       "    <tr>\n",
       "      <th>3</th>\n",
       "      <td>4</td>\n",
       "      <td>거인의 포트폴리오</td>\n",
       "      <td>16200</td>\n",
       "      <td>강환국</td>\n",
       "      <td>페이지2북스</td>\n",
       "      <td>2021년 11월 08일</td>\n",
       "      <td>404</td>\n",
       "    </tr>\n",
       "    <tr>\n",
       "      <th>4</th>\n",
       "      <td>5</td>\n",
       "      <td>불편한 편의점(15만부 기념 윈터 에디션)</td>\n",
       "      <td>12600</td>\n",
       "      <td>김호연</td>\n",
       "      <td>나무옆의자</td>\n",
       "      <td>2021년 04월 20일</td>\n",
       "      <td>268</td>\n",
       "    </tr>\n",
       "    <tr>\n",
       "      <th>5</th>\n",
       "      <td>6</td>\n",
       "      <td>거꾸로 읽는 세계사</td>\n",
       "      <td>15750</td>\n",
       "      <td>유시민</td>\n",
       "      <td>돌베개</td>\n",
       "      <td>2021년 10월 29일</td>\n",
       "      <td>404</td>\n",
       "    </tr>\n",
       "    <tr>\n",
       "      <th>6</th>\n",
       "      <td>6</td>\n",
       "      <td>달러구트 꿈 백화점</td>\n",
       "      <td>12420</td>\n",
       "      <td>이미예</td>\n",
       "      <td>팩토리나인</td>\n",
       "      <td>2020년 07월 08일</td>\n",
       "      <td>300</td>\n",
       "    </tr>\n",
       "    <tr>\n",
       "      <th>7</th>\n",
       "      <td>8</td>\n",
       "      <td>작은 별이지만 빛나고 있어(10만 부 기념 한정판 에디션)</td>\n",
       "      <td>13500</td>\n",
       "      <td>소윤</td>\n",
       "      <td>북로망스</td>\n",
       "      <td>2021년 09월 29일</td>\n",
       "      <td>274</td>\n",
       "    </tr>\n",
       "    <tr>\n",
       "      <th>8</th>\n",
       "      <td>9</td>\n",
       "      <td>달러구트 꿈 백화점. 2</td>\n",
       "      <td>12420</td>\n",
       "      <td>이미예</td>\n",
       "      <td>팩토리나인</td>\n",
       "      <td>2021년 07월 27일</td>\n",
       "      <td>308</td>\n",
       "    </tr>\n",
       "    <tr>\n",
       "      <th>9</th>\n",
       "      <td>10</td>\n",
       "      <td>오십에 읽는 논어</td>\n",
       "      <td>14400</td>\n",
       "      <td>최종엽</td>\n",
       "      <td>유노북스</td>\n",
       "      <td>2021년 11월 03일</td>\n",
       "      <td>300</td>\n",
       "    </tr>\n",
       "    <tr>\n",
       "      <th>10</th>\n",
       "      <td>11</td>\n",
       "      <td>흔한남매. 9</td>\n",
       "      <td>12150</td>\n",
       "      <td>흔한남매, 백난도그림 : 유난희</td>\n",
       "      <td>미래엔아이세움</td>\n",
       "      <td>2021년 12월 09일</td>\n",
       "      <td>192</td>\n",
       "    </tr>\n",
       "    <tr>\n",
       "      <th>11</th>\n",
       "      <td>12</td>\n",
       "      <td>투자는 디테일에 있다</td>\n",
       "      <td>16200</td>\n",
       "      <td>김정환</td>\n",
       "      <td>부케이</td>\n",
       "      <td>2021년 12월 10일</td>\n",
       "      <td>424</td>\n",
       "    </tr>\n",
       "    <tr>\n",
       "      <th>12</th>\n",
       "      <td>12</td>\n",
       "      <td>웰씽킹(Wealthinking)</td>\n",
       "      <td>14400</td>\n",
       "      <td>켈리 최</td>\n",
       "      <td>다산북스</td>\n",
       "      <td>2021년 11월 10일</td>\n",
       "      <td>316</td>\n",
       "    </tr>\n",
       "    <tr>\n",
       "      <th>13</th>\n",
       "      <td>14</td>\n",
       "      <td>2022 사이다 면접</td>\n",
       "      <td>31500</td>\n",
       "      <td>이지수, 구영모, 이지수</td>\n",
       "      <td>박문각</td>\n",
       "      <td>2021년 11월 20일</td>\n",
       "      <td>624</td>\n",
       "    </tr>\n",
       "    <tr>\n",
       "      <th>14</th>\n",
       "      <td>15</td>\n",
       "      <td>미드나잇 라이브러리(25만부 기념 퍼플 에디션)</td>\n",
       "      <td>14220</td>\n",
       "      <td>매트 헤이그역 : 노진선</td>\n",
       "      <td>인플루엔셜</td>\n",
       "      <td>2021년 04월 28일</td>\n",
       "      <td>408</td>\n",
       "    </tr>\n",
       "  </tbody>\n",
       "</table>\n",
       "</div>"
      ],
      "text/plain": [
       "    순위                                 제목     가격  \\\n",
       "0    1                      트렌드 코리아 2022   16200   \n",
       "1    2            2022 현직교사들이 들려주는 면접레시피   42300   \n",
       "2    3                  아직 오지 않은 날들을 위하여   14400   \n",
       "3    4                         거인의 포트폴리오   16200   \n",
       "4    5           불편한 편의점(15만부 기념 윈터 에디션)   12600   \n",
       "5    6                        거꾸로 읽는 세계사   15750   \n",
       "6    6                        달러구트 꿈 백화점   12420   \n",
       "7    8  작은 별이지만 빛나고 있어(10만 부 기념 한정판 에디션)   13500   \n",
       "8    9                     달러구트 꿈 백화점. 2   12420   \n",
       "9   10                         오십에 읽는 논어   14400   \n",
       "10  11                           흔한남매. 9   12150   \n",
       "11  12                       투자는 디테일에 있다   16200   \n",
       "12  12                 웰씽킹(Wealthinking)   14400   \n",
       "13  14                       2022 사이다 면접   31500   \n",
       "14  15        미드나잇 라이브러리(25만부 기념 퍼플 에디션)   14220   \n",
       "\n",
       "                                   저자      출판사            발행일    쪽수  \n",
       "0             김난도, 전미영, 최지혜, 이향은, 이준영     미래의창  2021년 10월 06일   452  \n",
       "1   류은진, 양왕경, 이광한, 이지혜, 양왕경, 이광한, 이지혜     미래가치  2021년 11월 12일  1104  \n",
       "2                    파스칼 브뤼크네르역 : 이세진    인플루엔셜  2021년 11월 12일   320  \n",
       "3                                 강환국   페이지2북스  2021년 11월 08일   404  \n",
       "4                                 김호연    나무옆의자  2021년 04월 20일   268  \n",
       "5                                 유시민      돌베개  2021년 10월 29일   404  \n",
       "6                                 이미예    팩토리나인  2020년 07월 08일   300  \n",
       "7                                  소윤     북로망스  2021년 09월 29일   274  \n",
       "8                                 이미예    팩토리나인  2021년 07월 27일   308  \n",
       "9                                 최종엽     유노북스  2021년 11월 03일   300  \n",
       "10                  흔한남매, 백난도그림 : 유난희  미래엔아이세움  2021년 12월 09일   192  \n",
       "11                                김정환      부케이  2021년 12월 10일   424  \n",
       "12                               켈리 최     다산북스  2021년 11월 10일   316  \n",
       "13                      이지수, 구영모, 이지수      박문각  2021년 11월 20일   624  \n",
       "14                      매트 헤이그역 : 노진선    인플루엔셜  2021년 04월 28일   408  "
      ]
     },
     "execution_count": 59,
     "metadata": {},
     "output_type": "execute_result"
    }
   ],
   "source": [
    "df = pd.DataFrame(lines, columns=['순위','제목','가격','저자','출판사','발행일','쪽수'])\n",
    "df"
   ]
  },
  {
   "cell_type": "code",
   "execution_count": 60,
   "metadata": {},
   "outputs": [],
   "source": [
    "df.to_csv('인터파크_베스트셀러(211207).csv', index = False)"
   ]
  },
  {
   "cell_type": "code",
   "execution_count": null,
   "metadata": {},
   "outputs": [],
   "source": []
  }
 ],
 "metadata": {
  "interpreter": {
   "hash": "548f47d4ec0dc4112fdad0943bac241a01e6527a6c4e48b09b6eb2fedd600273"
  },
  "kernelspec": {
   "display_name": "Python 3.8.8 64-bit ('base': conda)",
   "language": "python",
   "name": "python3"
  },
  "language_info": {
   "codemirror_mode": {
    "name": "ipython",
    "version": 3
   },
   "file_extension": ".py",
   "mimetype": "text/x-python",
   "name": "python",
   "nbconvert_exporter": "python",
   "pygments_lexer": "ipython3",
   "version": "3.8.8"
  },
  "orig_nbformat": 4
 },
 "nbformat": 4,
 "nbformat_minor": 2
}
